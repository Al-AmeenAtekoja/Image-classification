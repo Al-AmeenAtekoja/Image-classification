{
 "cells": [
  {
   "cell_type": "code",
   "execution_count": 1,
   "metadata": {
    "id": "tV2m9-kfn2-s"
   },
   "outputs": [],
   "source": [
    "import torch\n",
    "import torchvision\n",
    "from torch.optim.lr_scheduler import StepLR\n",
    "import matplotlib.pyplot as plt\n",
    "import time\n",
    "%matplotlib inline"
   ]
  },
  {
   "cell_type": "code",
   "execution_count": 2,
   "metadata": {
    "id": "PlYfKlV0bldT"
   },
   "outputs": [],
   "source": [
    "device = torch.device('cuda')\n",
    "# device = torch.device('cpu')"
   ]
  },
  {
   "cell_type": "code",
   "execution_count": 3,
   "metadata": {
    "id": "v_91gDbqn2-w"
   },
   "outputs": [],
   "source": [
    "# Function to load dataset\n",
    "def load_data_CIFAR10(batch_size, resize=None):\n",
    "    trans = [torchvision.transforms.ToTensor()]\n",
    "    if resize:\n",
    "        trans.insert(0, torchvision.transforms.Resize(resize))\n",
    "    trans = torchvision.transforms.Compose(trans)\n",
    "    cifar10_train = torchvision.datasets.CIFAR10(\n",
    "        root=\"./data\", train=True, transform=trans, download=True)\n",
    "    cifar10_test = torchvision.datasets.CIFAR10(\n",
    "        root=\"./data\", train=False, transform=trans, download=True)\n",
    "    return (torch.utils.data.DataLoader(cifar10_train, batch_size, shuffle=True,\n",
    "                            num_workers=2),\n",
    "            torch.utils.data.DataLoader(cifar10_test, batch_size, shuffle=False,\n",
    "                            num_workers=2))"
   ]
  },
  {
   "cell_type": "code",
   "execution_count": 4,
   "metadata": {
    "colab": {
     "base_uri": "https://localhost:8080/"
    },
    "id": "xk5fSg4Fn2-y",
    "outputId": "150ca4ac-893f-4446-9ca4-ce7ac95cf284"
   },
   "outputs": [
    {
     "name": "stdout",
     "output_type": "stream",
     "text": [
      "Files already downloaded and verified\n",
      "Files already downloaded and verified\n"
     ]
    }
   ],
   "source": [
    "# Set batch size and load training and test split into variables \n",
    "batch_size = 128\n",
    "train_iter, test_iter = load_data_CIFAR10(batch_size)"
   ]
  },
  {
   "cell_type": "code",
   "execution_count": 5,
   "metadata": {
    "colab": {
     "base_uri": "https://localhost:8080/"
    },
    "id": "sia8mWBBoFv7",
    "outputId": "9c7c9708-0cc4-4f58-b397-4dcecfbb056f"
   },
   "outputs": [
    {
     "name": "stdout",
     "output_type": "stream",
     "text": [
      "torch.Size([128, 3, 32, 32])\n",
      "torch.Size([128])\n"
     ]
    }
   ],
   "source": [
    "# Show shape of features matrix and target vector\n",
    "X,y = next(iter(train_iter))\n",
    "print(X.shape)\n",
    "print(y.shape)"
   ]
  },
  {
   "cell_type": "code",
   "execution_count": 7,
   "metadata": {
    "editable": true,
    "id": "qKsuOV6MekvG",
    "slideshow": {
     "slide_type": ""
    },
    "tags": []
   },
   "outputs": [],
   "source": [
    "class convlblock(torch.nn.Module):\n",
    "    def __init__(self, input_channels, output_channels, num_convs):\n",
    "        super(convlblock, self).__init__()\n",
    "        self.num_convs = num_convs\n",
    "        self.conv_blocks = torch.nn.ModuleList()\n",
    "\n",
    "        # Stack of conv-batchnorm-relu blocks\n",
    "        for _ in range(num_convs):\n",
    "            block = torch.nn.Sequential(\n",
    "                torch.nn.Conv2d(input_channels, output_channels, kernel_size=3, padding=1),\n",
    "                torch.nn.BatchNorm2d(output_channels),  # Normalize activations\n",
    "                torch.nn.ReLU()  # Add non-linearity\n",
    "            )\n",
    "            self.conv_blocks.append(block)\n",
    "            input_channels = output_channels  # Next block gets same number of channels\n",
    "\n",
    "        self.pool = torch.nn.MaxPool2d(kernel_size=2, stride=2)  # Reduce spatial dimensions\n",
    "        self.fc = torch.nn.Linear(output_channels, num_convs)  # Learns mixing weights\n",
    "\n",
    "    def forward(self, x):\n",
    "        conv_outputs = []\n",
    "        current_input = x\n",
    "\n",
    "        # Process through all conv blocks\n",
    "        for block in self.conv_blocks:\n",
    "            current_input = block(current_input)\n",
    "            conv_outputs.append(current_input)  # Save each output\n",
    "\n",
    "        pooled = self.pool(current_input)  # Downsample\n",
    "        avg_channel_values = pooled.mean(dim=(2, 3))  # Global average pooling\n",
    "        a = self.fc(avg_channel_values)  # Get mixing coefficients\n",
    "\n",
    "        # Combine all conv outputs using learned weights\n",
    "        combined = sum(\n",
    "            a[:, i].view(-1, 1, 1, 1) * conv_outputs[i]\n",
    "            for i in range(self.num_convs)\n",
    "        )\n",
    "        return combined\n",
    "\n",
    "\n",
    "class Net(torch.nn.Module):\n",
    "    def __init__(self, conv_arch, num_outputs):\n",
    "        super(Net, self).__init__()\n",
    "        self.num_outputs = num_outputs\n",
    "        modules = []\n",
    "        input_channels = 3  # RGB input\n",
    "\n",
    "        # Build convolutional backbone\n",
    "        for num_convs, output_channels in conv_arch:\n",
    "            modules.append(convlblock(input_channels, output_channels, num_convs))\n",
    "            input_channels = output_channels\n",
    "        \n",
    "        self.convlblocks = torch.nn.Sequential(*modules)\n",
    "        \n",
    "        # Classification head\n",
    "        self.maxpool = torch.nn.AdaptiveMaxPool2d(1)  # Global pooling\n",
    "        self.flatten = torch.nn.Flatten()\n",
    "        self.fc1 = torch.nn.Linear(input_channels, 128)\n",
    "        self.rl1 = torch.nn.ReLU()\n",
    "        self.drop1 = torch.nn.Dropout()  # Regularization\n",
    "        self.fc2 = torch.nn.Linear(128, num_outputs)\n",
    "        \n",
    "        # Initialize biases to zero\n",
    "        torch.nn.init.zeros_(self.fc1.bias)\n",
    "        torch.nn.init.zeros_(self.fc2.bias)\n",
    "\n",
    "    def forward(self, x):\n",
    "        # Feature extraction\n",
    "        x = self.convlblocks(x)\n",
    "        \n",
    "        # Classification\n",
    "        x = self.maxpool(x)\n",
    "        x = self.flatten(x)\n",
    "        x = self.fc1(x)\n",
    "        x = self.rl1(x)\n",
    "        x = self.drop1(x)\n",
    "        x = self.fc2(x)\n",
    "        return x"
   ]
  },
  {
   "cell_type": "code",
   "execution_count": 8,
   "metadata": {
    "colab": {
     "base_uri": "https://localhost:8080/"
    },
    "id": "klOD4K3v9tz3",
    "outputId": "8d3386be-ba94-4e89-ff5a-c56670e3259f"
   },
   "outputs": [
    {
     "data": {
      "text/plain": [
       "Net(\n",
       "  (convlblocks): Sequential(\n",
       "    (0): convlblock(\n",
       "      (conv_blocks): ModuleList(\n",
       "        (0): Sequential(\n",
       "          (0): Conv2d(3, 32, kernel_size=(3, 3), stride=(1, 1), padding=(1, 1))\n",
       "          (1): BatchNorm2d(32, eps=1e-05, momentum=0.1, affine=True, track_running_stats=True)\n",
       "          (2): ReLU()\n",
       "        )\n",
       "        (1): Sequential(\n",
       "          (0): Conv2d(32, 32, kernel_size=(3, 3), stride=(1, 1), padding=(1, 1))\n",
       "          (1): BatchNorm2d(32, eps=1e-05, momentum=0.1, affine=True, track_running_stats=True)\n",
       "          (2): ReLU()\n",
       "        )\n",
       "      )\n",
       "      (pool): MaxPool2d(kernel_size=2, stride=2, padding=0, dilation=1, ceil_mode=False)\n",
       "      (fc): Linear(in_features=32, out_features=2, bias=True)\n",
       "    )\n",
       "    (1): convlblock(\n",
       "      (conv_blocks): ModuleList(\n",
       "        (0): Sequential(\n",
       "          (0): Conv2d(32, 64, kernel_size=(3, 3), stride=(1, 1), padding=(1, 1))\n",
       "          (1): BatchNorm2d(64, eps=1e-05, momentum=0.1, affine=True, track_running_stats=True)\n",
       "          (2): ReLU()\n",
       "        )\n",
       "        (1): Sequential(\n",
       "          (0): Conv2d(64, 64, kernel_size=(3, 3), stride=(1, 1), padding=(1, 1))\n",
       "          (1): BatchNorm2d(64, eps=1e-05, momentum=0.1, affine=True, track_running_stats=True)\n",
       "          (2): ReLU()\n",
       "        )\n",
       "      )\n",
       "      (pool): MaxPool2d(kernel_size=2, stride=2, padding=0, dilation=1, ceil_mode=False)\n",
       "      (fc): Linear(in_features=64, out_features=2, bias=True)\n",
       "    )\n",
       "    (2): convlblock(\n",
       "      (conv_blocks): ModuleList(\n",
       "        (0): Sequential(\n",
       "          (0): Conv2d(64, 128, kernel_size=(3, 3), stride=(1, 1), padding=(1, 1))\n",
       "          (1): BatchNorm2d(128, eps=1e-05, momentum=0.1, affine=True, track_running_stats=True)\n",
       "          (2): ReLU()\n",
       "        )\n",
       "        (1-2): 2 x Sequential(\n",
       "          (0): Conv2d(128, 128, kernel_size=(3, 3), stride=(1, 1), padding=(1, 1))\n",
       "          (1): BatchNorm2d(128, eps=1e-05, momentum=0.1, affine=True, track_running_stats=True)\n",
       "          (2): ReLU()\n",
       "        )\n",
       "      )\n",
       "      (pool): MaxPool2d(kernel_size=2, stride=2, padding=0, dilation=1, ceil_mode=False)\n",
       "      (fc): Linear(in_features=128, out_features=3, bias=True)\n",
       "    )\n",
       "    (3): convlblock(\n",
       "      (conv_blocks): ModuleList(\n",
       "        (0-2): 3 x Sequential(\n",
       "          (0): Conv2d(128, 128, kernel_size=(3, 3), stride=(1, 1), padding=(1, 1))\n",
       "          (1): BatchNorm2d(128, eps=1e-05, momentum=0.1, affine=True, track_running_stats=True)\n",
       "          (2): ReLU()\n",
       "        )\n",
       "      )\n",
       "      (pool): MaxPool2d(kernel_size=2, stride=2, padding=0, dilation=1, ceil_mode=False)\n",
       "      (fc): Linear(in_features=128, out_features=3, bias=True)\n",
       "    )\n",
       "    (4): convlblock(\n",
       "      (conv_blocks): ModuleList(\n",
       "        (0-1): 2 x Sequential(\n",
       "          (0): Conv2d(128, 128, kernel_size=(3, 3), stride=(1, 1), padding=(1, 1))\n",
       "          (1): BatchNorm2d(128, eps=1e-05, momentum=0.1, affine=True, track_running_stats=True)\n",
       "          (2): ReLU()\n",
       "        )\n",
       "      )\n",
       "      (pool): MaxPool2d(kernel_size=2, stride=2, padding=0, dilation=1, ceil_mode=False)\n",
       "      (fc): Linear(in_features=128, out_features=2, bias=True)\n",
       "    )\n",
       "  )\n",
       "  (maxpool): AdaptiveMaxPool2d(output_size=1)\n",
       "  (flatten): Flatten(start_dim=1, end_dim=-1)\n",
       "  (fc1): Linear(in_features=128, out_features=128, bias=True)\n",
       "  (rl1): ReLU()\n",
       "  (drop1): Dropout(p=0.5, inplace=False)\n",
       "  (fc2): Linear(in_features=128, out_features=10, bias=True)\n",
       ")"
      ]
     },
     "execution_count": 8,
     "metadata": {},
     "output_type": "execute_result"
    }
   ],
   "source": [
    "# Applies Xavier initialization if the `torch.nn.Module` is `torch.nn.Linear` or `torch.nn.Conv2d`\n",
    "def init_weights(m):\n",
    "    if type(m) == torch.nn.Linear or type(m) == torch.nn.Conv2d:\n",
    "        (torch.nn.init.xavier_uniform_(m.weight))\n",
    "\n",
    "# Define number of output classes (e.g., for 10-class classification)\n",
    "num_outputs = 10\n",
    "\n",
    "# Convolutional architecture: \n",
    "# Example: [(2,32)] means 2 conv layers with 32 output channels\n",
    "conv_arch = [(2,32), (2, 64), (3,128), (3, 128), (2,128)]\n",
    "\n",
    "# Initialize model and move to GPU if available\n",
    "model = Net(conv_arch, num_outputs).to(device) \n",
    "\n",
    "# Apply custom weight initialization to all layers\n",
    "model.apply(init_weights)  "
   ]
  },
  {
   "cell_type": "code",
   "execution_count": 9,
   "metadata": {
    "id": "_uWG8zVUw7gp"
   },
   "outputs": [],
   "source": [
    "# Define cross-entropy loss for classification tasks\n",
    "loss = torch.nn.CrossEntropyLoss()\n",
    "\n",
    "# Set initial learning rate\n",
    "lr = 0.001\n",
    "\n",
    "# Initialize Adam optimizer with model parameters and learning rate\n",
    "optimiser = torch.optim.Adam(model.parameters(), lr=lr)\n",
    "\n",
    "# Configure learning rate scheduler to reduce LR by half every 20 epochs\n",
    "scheduler = StepLR(optimiser, step_size=20, gamma=0.5)"
   ]
  },
  {
   "cell_type": "code",
   "execution_count": 10,
   "metadata": {
    "colab": {
     "base_uri": "https://localhost:8080/"
    },
    "id": "avmQ1hFCxJqI",
    "outputId": "ad712c63-babc-4ce8-f79c-c391df952368"
   },
   "outputs": [],
   "source": [
    "# Function for Classification\n",
    "def correct(logits, y):\n",
    "    y_hat = logits.argmax(axis=1) # Finds the column with the highest value for each row of `logits`.\n",
    "    return (y_hat == y).float().sum() # Computes the number of times that `y_hat` and `y` match."
   ]
  },
  {
   "cell_type": "code",
   "execution_count": 11,
   "metadata": {
    "id": "VtLYxK2mxPj0"
   },
   "outputs": [],
   "source": [
    "def evaluate_metric(model, data_iter, metric):\n",
    "    \"\"\"Compute the average `metric` of the model on a dataset.\"\"\"\n",
    "    c = 0.\n",
    "    n = 0.\n",
    "    for X, y in data_iter:\n",
    "      X, y = X.to(device), y.to(device) # Moves data to `device`\n",
    "      logits = model(X)\n",
    "      c += metric(logits, y)\n",
    "      n += len(y)\n",
    "\n",
    "    return float(c / n)"
   ]
  },
  {
   "cell_type": "code",
   "execution_count": 12,
   "metadata": {
    "colab": {
     "base_uri": "https://localhost:8080/"
    },
    "id": "66lb7DFdxScc",
    "outputId": "398b4332-5c62-4354-cb7f-2d027e3688c7"
   },
   "outputs": [
    {
     "name": "stderr",
     "output_type": "stream",
     "text": [
      "/opt/conda/lib/python3.11/site-packages/torch/nn/modules/conv.py:456: UserWarning: Applied workaround for CuDNN issue, install nvrtc.so (Triggered internally at /opt/conda/conda-bld/pytorch_1702400440653/work/aten/src/ATen/native/cudnn/Conv_v8.cpp:80.)\n",
      "  return F.conv2d(input, weight, bias, self.stride,\n"
     ]
    },
    {
     "name": "stdout",
     "output_type": "stream",
     "text": [
      "Training accuracy: 0.09999999403953552. Testing accuracy: 0.09999999403953552.\n"
     ]
    }
   ],
   "source": [
    "model.eval() # This is necessary because Dropout behaves differently between training and evaluation\n",
    "print(f'Training accuracy: {evaluate_metric(model, train_iter, correct)}. Testing accuracy: {evaluate_metric(model, test_iter, correct)}.')"
   ]
  },
  {
   "cell_type": "code",
   "execution_count": 13,
   "metadata": {},
   "outputs": [
    {
     "name": "stdout",
     "output_type": "stream",
     "text": [
      "\n",
      "Epoch 1/50, LR: 0.001000\n",
      "Training accuracy: 0.10446000099182129. Testing accuracy: 0.10579999536275864. Duration: 40.768s.\n",
      "\n",
      "Epoch 2/50, LR: 0.001000\n",
      "Training accuracy: 0.10424000024795532. Testing accuracy: 0.10480000078678131. Duration: 40.357s.\n",
      "\n",
      "Epoch 3/50, LR: 0.001000\n",
      "Training accuracy: 0.10551999509334564. Testing accuracy: 0.1062999963760376. Duration: 40.207s.\n",
      "\n",
      "Epoch 4/50, LR: 0.001000\n",
      "Training accuracy: 0.10653999447822571. Testing accuracy: 0.10819999873638153. Duration: 40.289s.\n",
      "\n",
      "Epoch 5/50, LR: 0.001000\n",
      "Training accuracy: 0.1285800039768219. Testing accuracy: 0.13249999284744263. Duration: 40.117s.\n",
      "\n",
      "Epoch 6/50, LR: 0.001000\n",
      "Training accuracy: 0.2552199959754944. Testing accuracy: 0.2587999999523163. Duration: 40.438s.\n",
      "\n",
      "Epoch 7/50, LR: 0.001000\n",
      "Training accuracy: 0.3075999915599823. Testing accuracy: 0.3105999827384949. Duration: 40.134s.\n",
      "\n",
      "Epoch 8/50, LR: 0.001000\n",
      "Training accuracy: 0.3329799771308899. Testing accuracy: 0.3342999815940857. Duration: 40.220s.\n",
      "\n",
      "Epoch 9/50, LR: 0.001000\n",
      "Training accuracy: 0.30489999055862427. Testing accuracy: 0.30539998412132263. Duration: 40.671s.\n",
      "\n",
      "Epoch 10/50, LR: 0.001000\n",
      "Training accuracy: 0.3999199867248535. Testing accuracy: 0.3912999927997589. Duration: 40.148s.\n",
      "\n",
      "Epoch 11/50, LR: 0.001000\n",
      "Training accuracy: 0.48683997988700867. Testing accuracy: 0.48589998483657837. Duration: 40.005s.\n",
      "\n",
      "Epoch 12/50, LR: 0.001000\n",
      "Training accuracy: 0.4986799955368042. Testing accuracy: 0.494299978017807. Duration: 40.200s.\n",
      "\n",
      "Epoch 13/50, LR: 0.001000\n",
      "Training accuracy: 0.5992400050163269. Testing accuracy: 0.5839999914169312. Duration: 40.098s.\n",
      "\n",
      "Epoch 14/50, LR: 0.001000\n",
      "Training accuracy: 0.5844399929046631. Testing accuracy: 0.5771999955177307. Duration: 40.183s.\n",
      "\n",
      "Epoch 15/50, LR: 0.001000\n",
      "Training accuracy: 0.522379994392395. Testing accuracy: 0.5115000009536743. Duration: 39.990s.\n",
      "\n",
      "Epoch 16/50, LR: 0.001000\n",
      "Training accuracy: 0.6215199828147888. Testing accuracy: 0.6067000031471252. Duration: 40.099s.\n",
      "\n",
      "Epoch 17/50, LR: 0.001000\n",
      "Training accuracy: 0.621399998664856. Testing accuracy: 0.6082000136375427. Duration: 40.416s.\n",
      "\n",
      "Epoch 18/50, LR: 0.001000\n",
      "Training accuracy: 0.6529200077056885. Testing accuracy: 0.640500009059906. Duration: 39.800s.\n",
      "\n",
      "Epoch 19/50, LR: 0.001000\n",
      "Training accuracy: 0.6523999571800232. Testing accuracy: 0.6297000050544739. Duration: 40.201s.\n",
      "\n",
      "Epoch 20/50, LR: 0.001000\n",
      "Training accuracy: 0.690339982509613. Testing accuracy: 0.6732000112533569. Duration: 40.598s.\n",
      "\n",
      "Epoch 21/50, LR: 0.000500\n",
      "Training accuracy: 0.7543799877166748. Testing accuracy: 0.7166000008583069. Duration: 39.856s.\n",
      "\n",
      "Epoch 22/50, LR: 0.000500\n",
      "Training accuracy: 0.7936199903488159. Testing accuracy: 0.7488999962806702. Duration: 40.323s.\n",
      "\n",
      "Epoch 23/50, LR: 0.000500\n",
      "Training accuracy: 0.7858399748802185. Testing accuracy: 0.736799955368042. Duration: 40.009s.\n",
      "\n",
      "Epoch 24/50, LR: 0.000500\n",
      "Training accuracy: 0.8002199530601501. Testing accuracy: 0.7529000043869019. Duration: 39.960s.\n",
      "\n",
      "Epoch 25/50, LR: 0.000500\n",
      "Training accuracy: 0.810699999332428. Testing accuracy: 0.7622999548912048. Duration: 39.818s.\n",
      "\n",
      "Epoch 26/50, LR: 0.000500\n",
      "Training accuracy: 0.7979999780654907. Testing accuracy: 0.7482999563217163. Duration: 40.350s.\n",
      "\n",
      "Epoch 27/50, LR: 0.000500\n",
      "Training accuracy: 0.8325600028038025. Testing accuracy: 0.7716000080108643. Duration: 40.546s.\n",
      "\n",
      "Epoch 28/50, LR: 0.000500\n",
      "Training accuracy: 0.8292999863624573. Testing accuracy: 0.7738999724388123. Duration: 40.620s.\n",
      "\n",
      "Epoch 29/50, LR: 0.000500\n",
      "Training accuracy: 0.8093799948692322. Testing accuracy: 0.7479000091552734. Duration: 40.373s.\n",
      "\n",
      "Epoch 30/50, LR: 0.000500\n",
      "Training accuracy: 0.7970399856567383. Testing accuracy: 0.7439000010490417. Duration: 40.166s.\n",
      "\n",
      "Epoch 31/50, LR: 0.000500\n",
      "Training accuracy: 0.8217999935150146. Testing accuracy: 0.763700008392334. Duration: 40.068s.\n",
      "\n",
      "Epoch 32/50, LR: 0.000500\n",
      "Training accuracy: 0.825659990310669. Testing accuracy: 0.758899986743927. Duration: 40.178s.\n",
      "\n",
      "Epoch 33/50, LR: 0.000500\n",
      "Training accuracy: 0.8396199941635132. Testing accuracy: 0.7731999754905701. Duration: 40.180s.\n",
      "\n",
      "Epoch 34/50, LR: 0.000500\n",
      "Training accuracy: 0.8546800017356873. Testing accuracy: 0.7824999690055847. Duration: 40.439s.\n",
      "\n",
      "Epoch 35/50, LR: 0.000500\n",
      "Training accuracy: 0.8822199702262878. Testing accuracy: 0.7936999797821045. Duration: 39.780s.\n",
      "\n",
      "Epoch 36/50, LR: 0.000500\n",
      "Training accuracy: 0.8842799663543701. Testing accuracy: 0.7986999750137329. Duration: 40.628s.\n",
      "\n",
      "Epoch 37/50, LR: 0.000500\n",
      "Training accuracy: 0.8735199570655823. Testing accuracy: 0.785099983215332. Duration: 40.189s.\n",
      "\n",
      "Epoch 38/50, LR: 0.000500\n",
      "Training accuracy: 0.8917199969291687. Testing accuracy: 0.7980999946594238. Duration: 39.895s.\n",
      "\n",
      "Epoch 39/50, LR: 0.000500\n",
      "Training accuracy: 0.8281399607658386. Testing accuracy: 0.7545999884605408. Duration: 39.859s.\n",
      "\n",
      "Epoch 40/50, LR: 0.000500\n",
      "Training accuracy: 0.8915799856185913. Testing accuracy: 0.7950999736785889. Duration: 40.052s.\n",
      "\n",
      "Epoch 41/50, LR: 0.000250\n",
      "Training accuracy: 0.9398999810218811. Testing accuracy: 0.8201999664306641. Duration: 40.398s.\n",
      "\n",
      "Epoch 42/50, LR: 0.000250\n",
      "Training accuracy: 0.9418799877166748. Testing accuracy: 0.8192999958992004. Duration: 40.186s.\n",
      "\n",
      "Epoch 43/50, LR: 0.000250\n",
      "Training accuracy: 0.9342199563980103. Testing accuracy: 0.8091999888420105. Duration: 40.056s.\n",
      "\n",
      "Epoch 44/50, LR: 0.000250\n",
      "Training accuracy: 0.9499199986457825. Testing accuracy: 0.8241999745368958. Duration: 40.004s.\n",
      "\n",
      "Epoch 45/50, LR: 0.000250\n",
      "Training accuracy: 0.955299973487854. Testing accuracy: 0.8188999891281128. Duration: 40.053s.\n",
      "\n",
      "Epoch 46/50, LR: 0.000250\n",
      "Training accuracy: 0.9637799859046936. Testing accuracy: 0.8244999647140503. Duration: 39.780s.\n",
      "\n",
      "Epoch 47/50, LR: 0.000250\n",
      "Training accuracy: 0.9417199492454529. Testing accuracy: 0.8061999678611755. Duration: 40.493s.\n",
      "\n",
      "Epoch 48/50, LR: 0.000250\n",
      "Training accuracy: 0.9566199779510498. Testing accuracy: 0.8133999705314636. Duration: 40.334s.\n",
      "\n",
      "Epoch 49/50, LR: 0.000250\n",
      "Training accuracy: 0.9604199528694153. Testing accuracy: 0.8118999600410461. Duration: 40.252s.\n",
      "\n",
      "Epoch 50/50, LR: 0.000250\n",
      "Training accuracy: 0.9510799646377563. Testing accuracy: 0.8129000067710876. Duration: 40.438s.\n"
     ]
    },
    {
     "data": {
      "image/png": "[encoded data removed]",
      "text/plain": [
       "<Figure size 640x480 with 1 Axes>"
      ]
     },
     "metadata": {},
     "output_type": "display_data"
    },
    {
     "data": {
      "image/png": "[encoded data removed]",
      "text/plain": [
       "<Figure size 640x480 with 1 Axes>"
      ]
     },
     "metadata": {},
     "output_type": "display_data"
    }
   ],
   "source": [
    "# Initialize lists to track training progress\n",
    "losses = [] # Stores loss values for each batch\n",
    "train_accs = [] # Records training accuracy per epoch\n",
    "test_accs = [] # Records validation accuracy per epoch\n",
    "num_epochs = 50 # Total training epochs\n",
    "\n",
    "for epoch in range(num_epochs):\n",
    "    print(f'\\nEpoch {epoch + 1}/{num_epochs}, LR: {scheduler.get_last_lr()[0]:.6f}')\n",
    "    start_time = time.perf_counter()\n",
    "\n",
    "# Training phase\n",
    "    model.train()\n",
    "    for X, y in train_iter:\n",
    "        X, y = X.to(device), y.to(device) # Move data to device (GPU/CPU)\n",
    "        logits = model(X) # Forward pass\n",
    "        l = loss(logits, y) # Compute loss\n",
    "        optimiser.zero_grad() # Clear previous gradients\n",
    "        l.backward() # Backpropagation\n",
    "        optimiser.step() # Update weights\n",
    "        losses.append(float(l)) # Store batch loss\n",
    "\n",
    "    # Update LR after epoch 20 (will take effect at the start of epoch 21)\n",
    "    scheduler.step()\n",
    "\n",
    "    # Validation\n",
    "    with torch.no_grad():\n",
    "        model.eval() # Set model to evaluation mode\n",
    "        train_accs.append(evaluate_metric(model, train_iter, correct)) # Train accuracy\n",
    "        test_accs.append(evaluate_metric(model, test_iter, correct)) # Test accuracy\n",
    "        end_time = time.perf_counter()\n",
    "        print(f'Training accuracy: {train_accs[-1]}. Testing accuracy: {test_accs[-1]}. Duration: {end_time - start_time:.3f}s.')\n",
    "\n",
    "# Plot results\n",
    "plt.plot(losses) # Plots the loss for each training batch\n",
    "plt.xlabel('Training batch')\n",
    "plt.ylabel('Cross entropy loss')\n",
    "plt.show()\n",
    "\n",
    "plt.plot(train_accs, label='Training accuracy')\n",
    "plt.plot(test_accs, label='Testing accuracy')\n",
    "plt.legend(loc='best')\n",
    "plt.xlabel('Epoch')\n",
    "plt.show()"
   ]
  }
 ],
 "metadata": {
  "accelerator": "GPU",
  "colab": {
   "gpuType": "T4",
   "provenance": []
  },
  "kernelspec": {
   "display_name": "Python 3 (ipykernel)",
   "language": "python",
   "name": "python3"
  },
  "language_info": {
   "codemirror_mode": {
    "name": "ipython",
    "version": 3
   },
   "file_extension": ".py",
   "mimetype": "text/x-python",
   "name": "python",
   "nbconvert_exporter": "python",
   "pygments_lexer": "ipython3",
   "version": "3.11.7"
  }
 },
 "nbformat": 4,
 "nbformat_minor": 4
}
